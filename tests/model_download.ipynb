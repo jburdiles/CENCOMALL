{
 "cells": [
  {
   "cell_type": "code",
   "execution_count": null,
   "metadata": {},
   "outputs": [
    {
     "name": "stderr",
     "output_type": "stream",
     "text": [
      "c:\\Users\\joaqu\\OneDrive\\Documentos\\Codes\\CENCOMALL\\venv\\Lib\\site-packages\\tqdm\\auto.py:21: TqdmWarning: IProgress not found. Please update jupyter and ipywidgets. See https://ipywidgets.readthedocs.io/en/stable/user_install.html\n",
      "  from .autonotebook import tqdm as notebook_tqdm\n",
      "Downloading 2 files:   0%|          | 0/2 [00:00<?, ?it/s]"
     ]
    },
    {
     "name": "stdout",
     "output_type": "stream",
     "text": [
      "Downloading from https://www.kaggle.com/api/v1/models/kaledhoshme/early-detection-of-theft-attempts/tensorFlow2/early-detection-of-theft-attempts/1/download/lrcn_160S_90_90Q.h5...\n"
     ]
    },
    {
     "name": "stderr",
     "output_type": "stream",
     "text": []
    },
    {
     "name": "stdout",
     "output_type": "stream",
     "text": [
      "Downloading from https://www.kaggle.com/api/v1/models/kaledhoshme/early-detection-of-theft-attempts/tensorFlow2/early-detection-of-theft-attempts/1/download/run.ipynb...\n"
     ]
    },
    {
     "name": "stderr",
     "output_type": "stream",
     "text": [
      "\n",
      "100%|██████████| 7.80k/7.80k [00:00<00:00, 5.20MB/s]\n",
      "100%|██████████| 2.49M/2.49M [00:00<00:00, 3.28MB/s]\n",
      "Downloading 2 files: 100%|██████████| 2/2 [00:01<00:00,  1.27it/s]"
     ]
    },
    {
     "name": "stdout",
     "output_type": "stream",
     "text": [
      "Path to model files: C:\\Users\\joaqu\\.cache\\kagglehub\\models\\kaledhoshme\\early-detection-of-theft-attempts\\tensorFlow2\\early-detection-of-theft-attempts\\1\n"
     ]
    },
    {
     "name": "stderr",
     "output_type": "stream",
     "text": [
      "\n"
     ]
    }
   ],
   "source": [
    "import kagglehub\n",
    "\n",
    "# Download latest version\n",
    "path = kagglehub.model_download(\"kaledhoshme/early-detection-of-theft-attempts/tensorFlow2/early-detection-of-theft-attempts\")\n",
    "\n",
    "print(\"Path to model files:\", path)\n"
   ]
  }
 ],
 "metadata": {
  "kernelspec": {
   "display_name": "venv",
   "language": "python",
   "name": "python3"
  },
  "language_info": {
   "codemirror_mode": {
    "name": "ipython",
    "version": 3
   },
   "file_extension": ".py",
   "mimetype": "text/x-python",
   "name": "python",
   "nbconvert_exporter": "python",
   "pygments_lexer": "ipython3",
   "version": "3.12.9"
  }
 },
 "nbformat": 4,
 "nbformat_minor": 2
}
